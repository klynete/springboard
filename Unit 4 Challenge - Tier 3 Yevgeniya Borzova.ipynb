{
 "cells": [
  {
   "cell_type": "markdown",
   "metadata": {
    "colab_type": "text",
    "id": "Tia3MP1SJpgj"
   },
   "source": [
    "# Springboard Data Science Career Track Unit 4 Challenge - Tier 3 Complete\n",
    "\n",
    "## Objectives\n",
    "Hey! Great job getting through those challenging DataCamp courses. You're learning a lot in a short span of time. \n",
    "\n",
    "In this notebook, you're going to apply the skills you've been learning, bridging the gap between the controlled environment of DataCamp and the *slightly* messier work that data scientists do with actual datasets!\n",
    "\n",
    "Here’s the mystery we’re going to solve: ***which boroughs of London have seen the greatest increase in housing prices, on average, over the last two decades?***\n",
    "\n",
    "\n",
    "A borough is just a fancy word for district. You may be familiar with the five boroughs of New York… well, there are 32 boroughs within Greater London [(here's some info for the curious)](https://en.wikipedia.org/wiki/London_boroughs). Some of them are more desirable areas to live in, and the data will reflect that with a greater rise in housing prices.\n",
    "\n",
    "***This is the Tier 3 notebook, which means it's not filled in at all: we'll just give you the skeleton of a project, the brief and the data. It's up to you to play around with it and see what you can find out! Good luck! If you struggle, feel free to look at easier tiers for help; but try to dip in and out of them, as the more independent work you do, the better it is for your learning!***\n",
    "\n",
    "This challenge will make use of only what you learned in the following DataCamp courses: \n",
    "- Prework courses (Introduction to Python for Data Science, Intermediate Python for Data Science)\n",
    "- Data Types for Data Science\n",
    "- Python Data Science Toolbox (Part One) \n",
    "- pandas Foundations\n",
    "- Manipulating DataFrames with pandas\n",
    "- Merging DataFrames with pandas\n",
    "\n",
    "Of the tools, techniques and concepts in the above DataCamp courses, this challenge should require the application of the following: \n",
    "- **pandas**\n",
    "    - **data ingestion and inspection** (pandas Foundations, Module One) \n",
    "    - **exploratory data analysis** (pandas Foundations, Module Two)\n",
    "    - **tidying and cleaning** (Manipulating DataFrames with pandas, Module Three) \n",
    "    - **transforming DataFrames** (Manipulating DataFrames with pandas, Module One)\n",
    "    - **subsetting DataFrames with lists** (Manipulating DataFrames with pandas, Module One) \n",
    "    - **filtering DataFrames** (Manipulating DataFrames with pandas, Module One) \n",
    "    - **grouping data** (Manipulating DataFrames with pandas, Module Four) \n",
    "    - **melting data** (Manipulating DataFrames with pandas, Module Three) \n",
    "    - **advanced indexing** (Manipulating DataFrames with pandas, Module Four) \n",
    "- **matplotlib** (Intermediate Python for Data Science, Module One)\n",
    "- **fundamental data types** (Data Types for Data Science, Module One) \n",
    "- **dictionaries** (Intermediate Python for Data Science, Module Two)\n",
    "- **handling dates and times** (Data Types for Data Science, Module Four)\n",
    "- **function definition** (Python Data Science Toolbox - Part One, Module One)\n",
    "- **default arguments, variable length, and scope** (Python Data Science Toolbox - Part One, Module Two) \n",
    "- **lambda functions and error handling** (Python Data Science Toolbox - Part One, Module Four) "
   ]
  },
  {
   "cell_type": "markdown",
   "metadata": {
    "colab_type": "text",
    "id": "Ipgd2nV8Jpgl"
   },
   "source": [
    "## The Data Science Pipeline\n",
    "\n",
    "This is Tier Three, so we'll get you started. But after that, it's all in your hands! When you feel done with your investigations, look back over what you've accomplished, and prepare a quick presentation of your findings for the next mentor meeting. \n",
    "\n",
    "Data Science is magical. In this case study, you'll get to apply some complex machine learning algorithms. But as  [David Spiegelhalter](https://www.youtube.com/watch?v=oUs1uvsz0Ok) reminds us, there is no substitute for simply **taking a really, really good look at the data.** Sometimes, this is all we need to answer our question.\n",
    "\n",
    "Data Science projects generally adhere to the four stages of Data Science Pipeline:\n",
    "1. Sourcing and loading \n",
    "2. Cleaning, transforming, and visualizing \n",
    "3. Modeling \n",
    "4. Evaluating and concluding \n"
   ]
  },
  {
   "cell_type": "markdown",
   "metadata": {
    "colab_type": "text",
    "id": "zswDqbefJpgm"
   },
   "source": [
    "### 1. Sourcing and Loading \n",
    "\n",
    "Any Data Science project kicks off by importing  ***pandas***. The documentation of this wonderful library can be found [here](https://pandas.pydata.org/). As you've seen, pandas is conveniently connected to the [Numpy](http://www.numpy.org/) and [Matplotlib](https://matplotlib.org/) libraries. \n",
    "\n",
    "***Hint:*** This part of the data science pipeline will test those skills you acquired in the pandas Foundations course, Module One. "
   ]
  },
  {
   "cell_type": "markdown",
   "metadata": {
    "colab_type": "text",
    "id": "aEau5nEvJpgm"
   },
   "source": [
    "#### 1.1. Importing Libraries"
   ]
  },
  {
   "cell_type": "code",
   "execution_count": 64,
   "metadata": {
    "colab": {},
    "colab_type": "code",
    "id": "7Bt_Q_oPJpgn"
   },
   "outputs": [],
   "source": [
    "# Let's import the pandas, numpy libraries as pd, and np respectively. \n",
    "import pandas as pd\n",
    "import numpy as np\n",
    "\n",
    "# Load the pyplot collection of functions from matplotlib, as plt \n",
    "from matplotlib import pyplot as plt"
   ]
  },
  {
   "cell_type": "markdown",
   "metadata": {
    "colab_type": "text",
    "id": "koUrawxsJpgq"
   },
   "source": [
    "#### 1.2.  Loading the data\n",
    "Your data comes from the [London Datastore](https://data.london.gov.uk/): a free, open-source data-sharing portal for London-oriented datasets. "
   ]
  },
  {
   "cell_type": "code",
   "execution_count": 65,
   "metadata": {
    "colab": {},
    "colab_type": "code",
    "id": "AiLiD4v3Jpgr"
   },
   "outputs": [],
   "source": [
    "# First, make a variable called url_LondonHousePrices, and assign it the following link, enclosed in quotation-marks as a string:\n",
    "# https://data.london.gov.uk/download/uk-house-price-index/70ac0766-8902-4eb5-aab5-01951aaed773/UK%20House%20price%20index.xls\n",
    "\n",
    "url_LondonHousePrices = \"https://data.london.gov.uk/download/uk-house-price-index/70ac0766-8902-4eb5-aab5-01951aaed773/UK%20House%20price%20index.xls\"\n",
    "\n",
    "# The dataset we're interested in contains the Average prices of the houses, and is actually on a particular sheet of the Excel file. \n",
    "# As a result, we need to specify the sheet name in the read_excel() method.\n",
    "# Put this data into a variable called properties.  \n",
    "properties = pd.read_excel(url_LondonHousePrices, sheet_name='Average price', index_col= None)"
   ]
  },
  {
   "cell_type": "markdown",
   "metadata": {
    "colab_type": "text",
    "id": "POukEJXgJpgu"
   },
   "source": [
    "### 2. Cleaning, transforming, and visualizing\n",
    "This second stage is arguably the most important part of any Data Science project. The first thing to do is take a proper look at the data. Cleaning forms the majority of this stage, and can be done both before or after Transformation.\n",
    "\n",
    "The end goal of data cleaning is to have tidy data. When data is tidy: \n",
    "\n",
    "1. Each variable has a column.\n",
    "2. Each observation forms a row.\n",
    "\n",
    "Keep the end goal in mind as you move through this process, every step will take you closer. \n",
    "\n",
    "\n",
    "\n",
    "***Hint:*** This part of the data science pipeline should test those skills you acquired in: \n",
    "- Intermediate Python for data science, all modules.\n",
    "- pandas Foundations, all modules. \n",
    "- Manipulating DataFrames with pandas, all modules.\n",
    "- Data Types for Data Science, Module Four.\n",
    "- Python Data Science Toolbox - Part One, all modules"
   ]
  },
  {
   "cell_type": "markdown",
   "metadata": {
    "colab_type": "text",
    "id": "Te0Q548tnzZa"
   },
   "source": [
    "**2.1. Exploring your data** \n",
    "\n",
    "Think about your pandas functions for checking out a dataframe. "
   ]
  },
  {
   "cell_type": "code",
   "execution_count": 66,
   "metadata": {
    "colab": {},
    "colab_type": "code",
    "id": "Rxirxw_qoAJa"
   },
   "outputs": [
    {
     "name": "stdout",
     "output_type": "stream",
     "text": [
      "  Unnamed: 0 City of London Barking & Dagenham       Barnet       Bexley  \\\n",
      "0        NaT      E09000001          E09000002    E09000003    E09000004   \n",
      "1 1995-01-01    91448.98487         50460.2266  93284.51832  64958.09036   \n",
      "2 1995-02-01    82202.77314        51085.77983  93190.16963  64787.92069   \n",
      "3 1995-03-01    79120.70256        51268.96956  92247.52435  64367.49344   \n",
      "4 1995-04-01    77101.20804        53133.50526  90762.87492  64277.66881   \n",
      "\n",
      "         Brent      Bromley       Camden      Croydon       Ealing  ...  \\\n",
      "0    E09000005    E09000006    E09000007    E09000008    E09000009  ...   \n",
      "1  71306.56698  81671.47692  120932.8881  69158.16225  79885.89069  ...   \n",
      "2  72022.26197  81657.55944  119508.8622  68951.09542  80897.06551  ...   \n",
      "3  72015.76274  81449.31143  120282.2131  68712.44341  81379.86288  ...   \n",
      "4  72965.63094  81124.41227   120097.899  68610.04641  82188.90498  ...   \n",
      "\n",
      "    NORTH WEST YORKS & THE HUMBER EAST MIDLANDS WEST MIDLANDS EAST OF ENGLAND  \\\n",
      "0    E12000002          E12000003     E12000004     E12000005       E12000006   \n",
      "1  43958.48001        44803.42878   45544.52227   48527.52339      56701.5961   \n",
      "2  43925.42289        44528.80721   46051.57066   49341.29029     56593.59475   \n",
      "3   44434.8681        45200.46775   45383.82395   49442.17973     56171.18278   \n",
      "4   44267.7796        45614.34341   46124.23045   49455.93299     56567.89582   \n",
      "\n",
      "        LONDON   SOUTH EAST   SOUTH WEST Unnamed: 47      England  \n",
      "0    E12000007    E12000008    E12000009         NaN    E92000001  \n",
      "1  74435.76052  64018.87894   54705.1579         NaN  53202.77128  \n",
      "2  72777.93709  63715.02399  54356.14843         NaN   53096.1549  \n",
      "3  73896.84204  64113.60858  53583.07667         NaN   53201.2843  \n",
      "4  74455.28754  64623.22395  54786.01938         NaN   53590.8548  \n",
      "\n",
      "[5 rows x 49 columns]\n",
      "(332, 49)\n",
      "RangeIndex(start=0, stop=332, step=1)\n"
     ]
    }
   ],
   "source": [
    "print(properties.head())\n",
    "print(properties.shape)\n",
    "print(properties.index)"
   ]
  },
  {
   "cell_type": "markdown",
   "metadata": {
    "colab_type": "text",
    "id": "tE9Sqt9-oAta"
   },
   "source": [
    "**2.2. Cleaning the data**\n",
    "\n",
    "You might find you need to transpose your dataframe, check out what its row indexes are, and reset the index. You  also might find you need to assign the values of the first row to your column headings  . (Hint: recall the .columns feature of DataFrames, as well as the iloc[] method).\n",
    "\n",
    "Don't be afraid to use StackOverflow for help  with this."
   ]
  },
  {
   "cell_type": "code",
   "execution_count": 67,
   "metadata": {
    "colab": {},
    "colab_type": "code",
    "id": "cdAu1A3YoH_r"
   },
   "outputs": [
    {
     "name": "stdout",
     "output_type": "stream",
     "text": [
      "Index(['Unnamed: 0', 'City of London', 'Barking & Dagenham', 'Barnet',\n",
      "       'Bexley', 'Brent', 'Bromley', 'Camden', 'Croydon', 'Ealing', 'Enfield',\n",
      "       'Greenwich', 'Hackney', 'Hammersmith & Fulham', 'Haringey', 'Harrow',\n",
      "       'Havering', 'Hillingdon', 'Hounslow', 'Islington',\n",
      "       'Kensington & Chelsea', 'Kingston upon Thames', 'Lambeth', 'Lewisham',\n",
      "       'Merton', 'Newham', 'Redbridge', 'Richmond upon Thames', 'Southwark',\n",
      "       'Sutton', 'Tower Hamlets', 'Waltham Forest', 'Wandsworth',\n",
      "       'Westminster', 'Unnamed: 34', 'Inner London', 'Outer London',\n",
      "       'Unnamed: 37', 'NORTH EAST', 'NORTH WEST', 'YORKS & THE HUMBER',\n",
      "       'EAST MIDLANDS', 'WEST MIDLANDS', 'EAST OF ENGLAND', 'LONDON',\n",
      "       'SOUTH EAST', 'SOUTH WEST', 'Unnamed: 47', 'England'],\n",
      "      dtype='object')\n",
      "0          Unnamed: 0        NaT 1995-01-01 00:00:00 1995-02-01 00:00:00  \\\n",
      "1      City of London  E09000001         91448.98487         82202.77314   \n",
      "2  Barking & Dagenham  E09000002          50460.2266         51085.77983   \n",
      "3              Barnet  E09000003         93284.51832         93190.16963   \n",
      "4              Bexley  E09000004         64958.09036         64787.92069   \n",
      "5               Brent  E09000005         71306.56698         72022.26197   \n",
      "\n",
      "0 1995-03-01 00:00:00 1995-04-01 00:00:00 1995-05-01 00:00:00  \\\n",
      "1         79120.70256         77101.20804         84409.14932   \n",
      "2         51268.96956         53133.50526         53042.24852   \n",
      "3         92247.52435         90762.87492         90258.00033   \n",
      "4         64367.49344         64277.66881         63997.13588   \n",
      "5         72015.76274         72965.63094         73704.04743   \n",
      "\n",
      "0 1995-06-01 00:00:00 1995-07-01 00:00:00 1995-08-01 00:00:00  ...  \\\n",
      "1         94900.51244         110128.0423         112329.4376  ...   \n",
      "2         53700.34831         52113.12157         52232.19868  ...   \n",
      "3         90107.23471         91441.24768         92361.31512  ...   \n",
      "4         64252.32335         63722.70055         64432.60005  ...   \n",
      "5         74310.48167         74127.03788          73547.0411  ...   \n",
      "\n",
      "0 2021-10-01 00:00:00 2021-11-01 00:00:00 2021-12-01 00:00:00  \\\n",
      "1          793389.303         799674.7093         809376.0744   \n",
      "2         326713.3328          328530.925         330850.6123   \n",
      "3         568918.4141         572810.1795         574877.2915   \n",
      "4         374878.1357         377659.1213         378364.5877   \n",
      "5         512019.2975          519123.411          522416.266   \n",
      "\n",
      "0 2022-01-01 00:00:00 2022-02-01 00:00:00 2022-03-01 00:00:00  \\\n",
      "1        795044.10926        836115.74765        799258.58748   \n",
      "2        336734.62387        340698.79077        340771.93062   \n",
      "3        579872.14702         575342.4801         578802.4801   \n",
      "4        381113.79384        384139.70262        387398.11978   \n",
      "5        518682.88696        520317.58456        521853.08619   \n",
      "\n",
      "0 2022-04-01 00:00:00 2022-05-01 00:00:00 2022-06-01 00:00:00  \\\n",
      "1        836684.18702        806733.18432        833786.68477   \n",
      "2        336905.30678        335382.82701        343512.81502   \n",
      "3        589705.73286        595649.55358        601705.27265   \n",
      "4        387129.37831        389450.43293        394606.94714   \n",
      "5        532222.06762        535568.94138        525733.01182   \n",
      "\n",
      "0 2022-07-01 00:00:00  \n",
      "1        807769.19965  \n",
      "2        345646.61453  \n",
      "3        606627.49429  \n",
      "4         399409.5049  \n",
      "5        542857.32498  \n",
      "\n",
      "[5 rows x 333 columns]\n",
      "(48, 333)\n"
     ]
    }
   ],
   "source": [
    "#transpose DataFrame\n",
    "properties_t=properties.T\n",
    "#check index\n",
    "print(properties_t.index)\n",
    "#remove index from DataFrame\n",
    "properties_t.reset_index(inplace=True)\n",
    "\n",
    "#set 1st row as a columns names\n",
    "properties_t.columns=properties_t.iloc[0]\n",
    "#remove 1st line\n",
    "properties_t=properties_t[1:]\n",
    "print(properties_t.head())\n",
    "print(properties_t.shape)"
   ]
  },
  {
   "cell_type": "markdown",
   "metadata": {
    "colab_type": "text",
    "id": "o1uLbJAsoIjK"
   },
   "source": [
    "**2.3. Cleaning the data (part 2)**\n",
    "\n",
    "You might we have to **rename** a couple columns. How do you do this? The clue's pretty bold..."
   ]
  },
  {
   "cell_type": "code",
   "execution_count": 68,
   "metadata": {
    "colab": {},
    "colab_type": "code",
    "id": "GKkmn1AnoVZS"
   },
   "outputs": [
    {
     "name": "stdout",
     "output_type": "stream",
     "text": [
      "Index([          'Borough',              'Code', 1995-01-01 00:00:00,\n",
      "       1995-02-01 00:00:00, 1995-03-01 00:00:00, 1995-04-01 00:00:00,\n",
      "       1995-05-01 00:00:00, 1995-06-01 00:00:00, 1995-07-01 00:00:00,\n",
      "       1995-08-01 00:00:00,\n",
      "       ...\n",
      "       2021-10-01 00:00:00, 2021-11-01 00:00:00, 2021-12-01 00:00:00,\n",
      "       2022-01-01 00:00:00, 2022-02-01 00:00:00, 2022-03-01 00:00:00,\n",
      "       2022-04-01 00:00:00, 2022-05-01 00:00:00, 2022-06-01 00:00:00,\n",
      "       2022-07-01 00:00:00],\n",
      "      dtype='object', name=0, length=333)\n"
     ]
    }
   ],
   "source": [
    "properties_t.rename(columns={'Unnamed: 0':'Borough', properties_t.columns[1]:'Code'}, inplace=True)\n",
    "print(properties_t.columns)"
   ]
  },
  {
   "cell_type": "markdown",
   "metadata": {
    "colab_type": "text",
    "id": "jy8BzXHmoWEw"
   },
   "source": [
    "**2.4.Transforming the data**\n",
    "\n",
    "Remember what Wes McKinney said about tidy data? \n",
    "\n",
    "You might need to **melt** your DataFrame here. "
   ]
  },
  {
   "cell_type": "code",
   "execution_count": 89,
   "metadata": {
    "colab": {},
    "colab_type": "code",
    "id": "S2wM0qLuo2Zt"
   },
   "outputs": [
    {
     "name": "stdout",
     "output_type": "stream",
     "text": [
      "(15888, 4)\n",
      "                 Borough       Code      Month Average price\n",
      "0         City of London  E09000001 1995-01-01   91448.98487\n",
      "1     Barking & Dagenham  E09000002 1995-01-01    50460.2266\n",
      "2                 Barnet  E09000003 1995-01-01   93284.51832\n",
      "3                 Bexley  E09000004 1995-01-01   64958.09036\n",
      "4                  Brent  E09000005 1995-01-01   71306.56698\n",
      "5                Bromley  E09000006 1995-01-01   81671.47692\n",
      "6                 Camden  E09000007 1995-01-01   120932.8881\n",
      "7                Croydon  E09000008 1995-01-01   69158.16225\n",
      "8                 Ealing  E09000009 1995-01-01   79885.89069\n",
      "9                Enfield  E09000010 1995-01-01   72514.69096\n",
      "10             Greenwich  E09000011 1995-01-01   62300.10169\n",
      "11               Hackney  E09000012 1995-01-01   61296.52637\n",
      "12  Hammersmith & Fulham  E09000013 1995-01-01   124902.8602\n",
      "13              Haringey  E09000014 1995-01-01   76287.56947\n",
      "14                Harrow  E09000015 1995-01-01   84769.52599\n"
     ]
    }
   ],
   "source": [
    "properties_melt=pd.melt(properties_t, id_vars=['Borough','Code'], var_name=['Month'], value_name='Average price')\n",
    "print(properties_melt.shape)\n",
    "print(properties_melt.head(15))\n"
   ]
  },
  {
   "cell_type": "markdown",
   "metadata": {
    "colab_type": "text",
    "id": "7kIsgAo7o3mf"
   },
   "source": [
    "Remember to make sure your column data types are all correct. Average prices, for example, should be floating point numbers... "
   ]
  },
  {
   "cell_type": "code",
   "execution_count": 91,
   "metadata": {
    "colab": {},
    "colab_type": "code",
    "id": "ZcR4IHbcpOaq"
   },
   "outputs": [
    {
     "name": "stdout",
     "output_type": "stream",
     "text": [
      "Borough                  object\n",
      "Code                     object\n",
      "Month            datetime64[ns]\n",
      "Average price            object\n",
      "dtype: object\n",
      "Borough                  object\n",
      "Code                     object\n",
      "Month            datetime64[ns]\n",
      "Average price           float64\n",
      "dtype: object\n"
     ]
    }
   ],
   "source": [
    "#check types of columns values\n",
    "print(properties_melt.dtypes)\n",
    "#change Average price column to numeric\n",
    "properties_melt['Average price']=properties_melt['Average price'].apply(pd.to_numeric)\n",
    "#check types of columns values\n",
    "print(properties_melt.dtypes)"
   ]
  },
  {
   "cell_type": "markdown",
   "metadata": {
    "colab_type": "text",
    "id": "knLUXHLypOtw"
   },
   "source": [
    "**2.5. Cleaning the data (part 3)**\n",
    "\n",
    "Do we have an equal number of observations in the ID, Average Price, Month, and London Borough columns? Remember that there are only 32 London Boroughs. How many entries do you have in that column? \n",
    "\n",
    "Check out the contents of the London Borough column, and if you find null values, get rid of them however you see fit. "
   ]
  },
  {
   "cell_type": "code",
   "execution_count": 92,
   "metadata": {
    "colab": {},
    "colab_type": "code",
    "id": "BnvTW5a3p0fC"
   },
   "outputs": [
    {
     "name": "stdout",
     "output_type": "stream",
     "text": [
      "(15888, 4)\n",
      "Borough          False\n",
      "Code              True\n",
      "Month            False\n",
      "Average price     True\n",
      "dtype: bool\n",
      "(14895, 4)\n",
      "Borough          False\n",
      "Code             False\n",
      "Month            False\n",
      "Average price    False\n",
      "dtype: bool\n",
      "['City of London' 'Barking & Dagenham' 'Barnet' 'Bexley' 'Brent' 'Bromley'\n",
      " 'Camden' 'Croydon' 'Ealing' 'Enfield' 'Greenwich' 'Hackney'\n",
      " 'Hammersmith & Fulham' 'Haringey' 'Harrow' 'Havering' 'Hillingdon'\n",
      " 'Hounslow' 'Islington' 'Kensington & Chelsea' 'Kingston upon Thames'\n",
      " 'Lambeth' 'Lewisham' 'Merton' 'Newham' 'Redbridge' 'Richmond upon Thames'\n",
      " 'Southwark' 'Sutton' 'Tower Hamlets' 'Waltham Forest' 'Wandsworth'\n",
      " 'Westminster' 'Inner London' 'Outer London' 'NORTH EAST' 'NORTH WEST'\n",
      " 'YORKS & THE HUMBER' 'EAST MIDLANDS' 'WEST MIDLANDS' 'EAST OF ENGLAND'\n",
      " 'LONDON' 'SOUTH EAST' 'SOUTH WEST' 'England']\n",
      "['Barking & Dagenham' 'Barnet' 'Bexley' 'Brent' 'Bromley' 'Camden'\n",
      " 'Croydon' 'Ealing' 'Enfield' 'Greenwich' 'Hackney' 'Hammersmith & Fulham'\n",
      " 'Haringey' 'Harrow' 'Havering' 'Hillingdon' 'Hounslow' 'Islington'\n",
      " 'Kensington & Chelsea' 'Kingston upon Thames' 'Lambeth' 'Lewisham'\n",
      " 'Merton' 'Newham' 'Redbridge' 'Richmond upon Thames' 'Southwark' 'Sutton'\n",
      " 'Tower Hamlets' 'Waltham Forest' 'Wandsworth' 'Westminster']\n"
     ]
    }
   ],
   "source": [
    "print(properties_melt.shape)\n",
    "# check null values\n",
    "print(properties_melt.isna().any())\n",
    "# drop null values\n",
    "properties_cleaned=properties_melt.dropna()\n",
    "print(properties_cleaned.shape)\n",
    "print(properties_cleaned.isna().any())\n",
    "#check list of Boroughs\n",
    "print(properties_cleaned['Borough'].unique())\n",
    "\n",
    "#clean non London boroughs from our DataFrame\n",
    "\n",
    "NonLondon=['City of London', 'Inner London', 'Outer London', 'NORTH EAST', 'NORTH WEST', \n",
    " 'YORKS & THE HUMBER', 'EAST MIDLANDS', 'WEST MIDLANDS', 'EAST OF ENGLAND', \n",
    " 'LONDON', 'SOUTH EAST', 'SOUTH WEST', 'England']\n",
    "London_properties=properties_cleaned[~properties_cleaned['Borough'].isin(NonLondon)]\n",
    "print(London_properties['Borough'].unique())"
   ]
  },
  {
   "cell_type": "markdown",
   "metadata": {
    "colab_type": "text",
    "id": "PGEx6mJsp6dG"
   },
   "source": [
    "**2.6. Visualizing the data**\n",
    "\n",
    "To visualize the data, why not subset on a particular London Borough? Maybe do a line plot of Month against Average Price?"
   ]
  },
  {
   "cell_type": "code",
   "execution_count": 116,
   "metadata": {
    "colab": {},
    "colab_type": "code",
    "id": "nAg5pT9cqHAR"
   },
   "outputs": [
    {
     "data": {
      "image/png": "[encoded data removed]",
      "text/plain": [
       "<Figure size 432x288 with 1 Axes>"
      ]
     },
     "metadata": {
      "needs_background": "light"
     },
     "output_type": "display_data"
    }
   ],
   "source": [
    "#London_properties.pivot_table(values=\"Average price\",index=\"Month\",columns=\"Borough\").plot()\n",
    "London_properties[London_properties['Borough']=='Kensington & Chelsea'].plot(x='Month', y='Average price')\n",
    "\n",
    "plt.show()"
   ]
  },
  {
   "cell_type": "markdown",
   "metadata": {
    "colab_type": "text",
    "id": "aWTPqSJeqHnC"
   },
   "source": [
    "To limit the number of data points you have, you might want to extract the year from every month value your *Month* column. \n",
    "\n",
    "To this end, you *could* apply a ***lambda function***. Your logic could work as follows:\n",
    "1. look through the `Month` column\n",
    "2. extract the year from each individual value in that column \n",
    "3. store that corresponding year as separate column. \n",
    "\n",
    "Whether you go ahead with this is up to you. Just so long as you answer our initial brief: which boroughs of London have seen the greatest house price increase, on average, over the past two decades? "
   ]
  },
  {
   "cell_type": "code",
   "execution_count": 113,
   "metadata": {
    "colab": {},
    "colab_type": "code",
    "id": "e0DF92cyqnu8"
   },
   "outputs": [
    {
     "name": "stdout",
     "output_type": "stream",
     "text": [
      "              Borough       Code      Month  Average price  Year\n",
      "1  Barking & Dagenham  E09000002 1995-01-01    50460.22660  1995\n",
      "2              Barnet  E09000003 1995-01-01    93284.51832  1995\n",
      "3              Bexley  E09000004 1995-01-01    64958.09036  1995\n",
      "4               Brent  E09000005 1995-01-01    71306.56698  1995\n",
      "5             Bromley  E09000006 1995-01-01    81671.47692  1995\n"
     ]
    },
    {
     "name": "stderr",
     "output_type": "stream",
     "text": [
      "/var/folders/gf/r8gtx_xx1lx_1z6ysyp27n1c0000gp/T/ipykernel_34639/330927598.py:1: SettingWithCopyWarning: \n",
      "A value is trying to be set on a copy of a slice from a DataFrame.\n",
      "Try using .loc[row_indexer,col_indexer] = value instead\n",
      "\n",
      "See the caveats in the documentation: https://pandas.pydata.org/pandas-docs/stable/user_guide/indexing.html#returning-a-view-versus-a-copy\n",
      "  London_properties['Year']=London_properties['Month'].apply(lambda x:x.year)\n"
     ]
    }
   ],
   "source": [
    "London_properties['Year']=London_properties['Month'].apply(lambda x:x.year)\n",
    "print(London_properties.head())"
   ]
  },
  {
   "cell_type": "markdown",
   "metadata": {
    "colab_type": "text",
    "id": "2knuTxAEqoJ4"
   },
   "source": [
    "**3. Modeling**\n",
    "\n",
    "Consider creating a function that will calculate a ratio of house prices, comparing the price of a house in 2018 to the price in 1998.\n",
    "\n",
    "Consider calling this function create_price_ratio.\n",
    "\n",
    "You'd want this function to:\n",
    "1. Take a filter of dfg, specifically where this filter constrains the London_Borough, as an argument. For example, one admissible argument should be: dfg[dfg['London_Borough']=='Camden'].\n",
    "2. Get the Average Price for that Borough, for the years 1998 and 2018.\n",
    "4. Calculate the ratio of the Average Price for 1998 divided by the Average Price for 2018.\n",
    "5. Return that ratio.\n",
    "\n",
    "Once you've written this function, you ultimately want to use it to iterate through all the unique London_Boroughs and work out the ratio capturing the difference of house prices between 1998 and 2018.\n",
    "\n",
    "Bear in mind: you don't have to write a function like this if you don't want to. If you can solve the brief otherwise, then great! \n",
    "\n",
    "***Hint***: This section should test the skills you acquired in:\n",
    "- Python Data Science Toolbox - Part One, all modules"
   ]
  },
  {
   "cell_type": "code",
   "execution_count": 151,
   "metadata": {
    "colab": {},
    "colab_type": "code",
    "id": "cKTyr437UgDa"
   },
   "outputs": [
    {
     "name": "stdout",
     "output_type": "stream",
     "text": [
      "{'Barking & Dagenham': 0.20422256235393685, 'Barnet': 0.22945274120785797, 'Bexley': 0.2353507654063011, 'Brent': 0.2043086864360114, 'Bromley': 0.24421308489837312, 'Camden': 0.20261973503252542, 'Croydon': 0.23803288028014047, 'Ealing': 0.23194048191708755, 'Enfield': 0.23455064269011863, 'Greenwich': 0.20995010893854218, 'Hackney': 0.16133493530705734, 'Hammersmith & Fulham': 0.24167443054605853, 'Haringey': 0.19475619095546956, 'Harrow': 0.24635417785626296, 'Havering': 0.23120155787014757, 'Hillingdon': 0.23807975835429931, 'Hounslow': 0.25148317824115635, 'Islington': 0.20643891170300285, 'Kensington & Chelsea': 0.19675491852791563, 'Kingston upon Thames': 0.23416190234282552, 'Lambeth': 0.20170435486140822, 'Lewisham': 0.1835124676472171, 'Merton': 0.21091380604361798, 'Newham': 0.18848754146121072, 'Redbridge': 0.2236545053715767, 'Richmond upon Thames': 0.24967779731157863, 'Southwark': 0.18127484171283462, 'Sutton': 0.24280551426824518, 'Tower Hamlets': 0.2161367227623553, 'Waltham Forest': 0.1713867782439487, 'Wandsworth': 0.2101851809159322, 'Westminster': 0.18679140473024677}\n",
      "                 Borough  Price ratio\n",
      "10               Hackney     0.161335\n",
      "29        Waltham Forest     0.171387\n",
      "26             Southwark     0.181275\n",
      "21              Lewisham     0.183512\n",
      "31           Westminster     0.186791\n",
      "23                Newham     0.188488\n",
      "12              Haringey     0.194756\n",
      "18  Kensington & Chelsea     0.196755\n",
      "20               Lambeth     0.201704\n",
      "5                 Camden     0.202620\n",
      "0     Barking & Dagenham     0.204223\n",
      "3                  Brent     0.204309\n",
      "17             Islington     0.206439\n",
      "9              Greenwich     0.209950\n",
      "30            Wandsworth     0.210185\n",
      "22                Merton     0.210914\n",
      "28         Tower Hamlets     0.216137\n",
      "24             Redbridge     0.223655\n",
      "1                 Barnet     0.229453\n",
      "14              Havering     0.231202\n",
      "7                 Ealing     0.231940\n",
      "19  Kingston upon Thames     0.234162\n",
      "8                Enfield     0.234551\n",
      "2                 Bexley     0.235351\n",
      "6                Croydon     0.238033\n",
      "15            Hillingdon     0.238080\n",
      "11  Hammersmith & Fulham     0.241674\n",
      "27                Sutton     0.242806\n",
      "4                Bromley     0.244213\n",
      "13                Harrow     0.246354\n",
      "25  Richmond upon Thames     0.249678\n",
      "16              Hounslow     0.251483\n"
     ]
    },
    {
     "data": {
      "image/png": "[encoded data removed]",
      "text/plain": [
       "<Figure size 432x288 with 1 Axes>"
      ]
     },
     "metadata": {
      "needs_background": "light"
     },
     "output_type": "display_data"
    }
   ],
   "source": [
    "# check price ratio for 1 Borough\n",
    "#Kensington_properties=London_properties[London_properties['Borough']=='Kensington & Chelsea']\n",
    "#print(Kensington_properties[Kensington_properties['Year']==1998])\n",
    "#print(Kensington_properties[Kensington_properties['Year']==2018])\n",
    "#avg_price_1998=Kensington_properties.loc[Kensington_properties['Year']==1998,'Average price'].mean()\n",
    "#print(avg_price_1998)\n",
    "#avg_price_2018=Kensington_properties.loc[Kensington_properties['Year']==2018,'Average price'].mean()\n",
    "#print(avg_price_2018)\n",
    "#price_ratio=avg_price_1998/avg_price_2018\n",
    "#print(price_ratio)\n",
    "def create_price_ratio(borough):\n",
    "    price_ratio=borough.loc[borough['Year']==1998,'Average price'].mean()/borough.loc[borough['Year']==2018,'Average price'].mean()\n",
    "    return price_ratio\n",
    "\n",
    "# empty dictionary to store price ratio per borough\n",
    "pr_ratio={}\n",
    "\n",
    "for n in London_properties['Borough'].unique():\n",
    "    borough_subdf=London_properties[London_properties['Borough']==n]\n",
    "    pr_ratio[n]=create_price_ratio(borough_subdf)\n",
    "\n",
    "print(pr_ratio)\n",
    "\n",
    "#transform dict to dataframe\n",
    "final_model=pd.DataFrame.from_dict(pr_ratio, orient='index', columns=['Price ratio'])    \n",
    "\n",
    "#remove index, rename columns, sort values\n",
    "final_model.reset_index(inplace=True)\n",
    "final_model.rename(columns={final_model.columns[0]:'Borough'},inplace=True)\n",
    "final_model.sort_values(by=['Price ratio'],inplace=True)\n",
    "print(final_model)\n",
    "\n",
    "#create bar plot for boroughs\n",
    "final_model.plot(kind='bar', x='Borough')\n",
    "plt.show()"
   ]
  },
  {
   "cell_type": "markdown",
   "metadata": {
    "colab_type": "text",
    "id": "NzYUI7FxJpgv"
   },
   "source": [
    "### 4. Conclusion\n",
    "What can you conclude? Type out your conclusion below. \n",
    "\n",
    "***Hackney borough of London have seen the greatest increase in housing prices, on average, over the last two decades.***\n",
    "\n",
    "Look back at your notebook. Think about how you might summarize what you have done, and prepare a quick presentation on it to your mentor at your next meeting. \n",
    "\n",
    "We hope you enjoyed this practical project. It should have consolidated your data hygiene and pandas skills by looking at a real-world problem involving just the kind of dataset you might encounter as a budding data scientist. Congratulations, and looking forward to seeing you at the next step in the course! "
   ]
  }
 ],
 "metadata": {
  "colab": {
   "collapsed_sections": [],
   "name": "Springboard Data Science Career Track Unit 4 Challenge - Tier 3 Complete .ipynb",
   "provenance": []
  },
  "kernelspec": {
   "display_name": "Python 3 (ipykernel)",
   "language": "python",
   "name": "python3"
  },
  "language_info": {
   "codemirror_mode": {
    "name": "ipython",
    "version": 3
   },
   "file_extension": ".py",
   "mimetype": "text/x-python",
   "name": "python",
   "nbconvert_exporter": "python",
   "pygments_lexer": "ipython3",
   "version": "3.9.12"
  }
 },
 "nbformat": 4,
 "nbformat_minor": 1
}
